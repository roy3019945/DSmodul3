{
  "nbformat": 4,
  "nbformat_minor": 0,
  "metadata": {
    "colab": {
      "private_outputs": true,
      "provenance": [],
      "include_colab_link": true
    },
    "kernelspec": {
      "name": "python3",
      "display_name": "Python 3"
    },
    "language_info": {
      "name": "python"
    }
  },
  "cells": [
    {
      "cell_type": "markdown",
      "metadata": {
        "id": "view-in-github",
        "colab_type": "text"
      },
      "source": [
        "<a href=\"https://colab.research.google.com/github/roy3019945/DSmodul3/blob/main/Copy_of_Module_3_Take_home_Assignment_Template.ipynb\" target=\"_parent\"><img src=\"https://colab.research.google.com/assets/colab-badge.svg\" alt=\"Open In Colab\"/></a>"
      ]
    },
    {
      "cell_type": "markdown",
      "source": [
        "# Import Packages"
      ],
      "metadata": {
        "id": "XfYwSIvKvWQ8"
      }
    },
    {
      "cell_type": "code",
      "source": [
        "import gdown"
      ],
      "metadata": {
        "id": "av1nJAoPtI-4"
      },
      "execution_count": null,
      "outputs": []
    },
    {
      "cell_type": "markdown",
      "source": [
        "# Download Data"
      ],
      "metadata": {
        "id": "lnlnpGTUvUsQ"
      }
    },
    {
      "cell_type": "code",
      "execution_count": null,
      "metadata": {
        "id": "2J8FJ-M0s7c6"
      },
      "outputs": [],
      "source": [
        "gdrive_url = \"https://drive.google.com/file/d/1hOLOXCnLtEVx56yth4ePcUdb_X038_Qd/view?usp=drive_link\"\n",
        "file_name = 'TELECOM_ACCOUNT.csv'\n",
        "gdown.download(gdrive_url, file_name, fuzzy=True)"
      ]
    },
    {
      "cell_type": "code",
      "source": [
        "gdrive_url = \"https://drive.google.com/file/d/1JMrMNFaflQR0NhCXR3-u7ueA7TdNTJki/view?usp=drive_link\"\n",
        "file_name = 'TELECOM_USAGE.csv'\n",
        "gdown.download(gdrive_url, file_name, fuzzy=True)"
      ],
      "metadata": {
        "id": "IMoIgZPutIio"
      },
      "execution_count": null,
      "outputs": []
    },
    {
      "cell_type": "markdown",
      "source": [
        "# Load Data"
      ],
      "metadata": {
        "id": "L9s_-pAKvYb6"
      }
    },
    {
      "cell_type": "code",
      "source": [
        "import pandas as pd"
      ],
      "metadata": {
        "id": "P3lcWWvXtm_1"
      },
      "execution_count": null,
      "outputs": []
    },
    {
      "cell_type": "code",
      "source": [
        "df_account = pd.read_csv('/content/TELECOM_ACCOUNT.csv')\n",
        "df_account"
      ],
      "metadata": {
        "id": "9DO-s4gLtoSL"
      },
      "execution_count": null,
      "outputs": []
    },
    {
      "cell_type": "code",
      "source": [
        "df_usage = pd.read_csv('/content/TELECOM_USAGE.csv')\n",
        "df_usage"
      ],
      "metadata": {
        "id": "iuKomhfHxWJQ"
      },
      "execution_count": null,
      "outputs": []
    },
    {
      "cell_type": "markdown",
      "source": [
        "# Cleaning Customer Gender"
      ],
      "metadata": {
        "id": "Vz10RzvQvaT8"
      }
    },
    {
      "cell_type": "code",
      "source": [
        "df_account.head()"
      ],
      "metadata": {
        "id": "-p_7MCuhtpi5"
      },
      "execution_count": null,
      "outputs": []
    },
    {
      "cell_type": "code",
      "source": [
        "df_account.info()"
      ],
      "metadata": {
        "id": "WVkJ9KzsHuCC"
      },
      "execution_count": null,
      "outputs": []
    },
    {
      "cell_type": "code",
      "source": [
        "df_account['customer_gender']"
      ],
      "metadata": {
        "id": "XseJO5P_vkL_"
      },
      "execution_count": null,
      "outputs": []
    },
    {
      "cell_type": "code",
      "source": [
        "df_account['customer_gender']=df_account['customer_gender'].fillna('U')"
      ],
      "metadata": {
        "id": "a9vUT5O3HzF5"
      },
      "execution_count": null,
      "outputs": []
    },
    {
      "cell_type": "code",
      "source": [
        "df_account['customer_gender'] = df_account['customer_gender'].replace('U', 'u')"
      ],
      "metadata": {
        "id": "t6_CjiTKKzzA"
      },
      "execution_count": null,
      "outputs": []
    },
    {
      "cell_type": "code",
      "source": [
        "df_account['customer_gender'].value_counts()"
      ],
      "metadata": {
        "id": "fx8t3HORwY8E"
      },
      "execution_count": null,
      "outputs": []
    },
    {
      "cell_type": "code",
      "source": [
        "df_account['customer_gender'] = df_account['customer_gender'].replace('.', 'u')"
      ],
      "metadata": {
        "id": "fQag6VGsKWAn"
      },
      "execution_count": null,
      "outputs": []
    },
    {
      "cell_type": "code",
      "source": [
        "df_account['customer_gender'].value_counts()"
      ],
      "metadata": {
        "id": "e7HW367RKVoL"
      },
      "execution_count": null,
      "outputs": []
    },
    {
      "cell_type": "markdown",
      "source": [
        "# RFM Exploration"
      ],
      "metadata": {
        "id": "J86IhLHExAsL"
      }
    },
    {
      "cell_type": "code",
      "source": [
        "df_usage[['rfm_score']].value_counts()"
      ],
      "metadata": {
        "id": "DN4STEk1wkib"
      },
      "execution_count": null,
      "outputs": []
    },
    {
      "cell_type": "code",
      "source": [
        "df_usage.columns"
      ],
      "metadata": {
        "id": "iVvBIfphU57C"
      },
      "execution_count": null,
      "outputs": []
    },
    {
      "cell_type": "code",
      "source": [
        "df_rfm=df_usage.copy()"
      ],
      "metadata": {
        "id": "7br3JX4_VMNL"
      },
      "execution_count": null,
      "outputs": []
    },
    {
      "cell_type": "code",
      "source": [
        "df_rfm.groupby('rfm_score').agg({'mb_data_usg_m01':['mean','max']})"
      ],
      "metadata": {
        "id": "xZtF_7VSyGt1"
      },
      "execution_count": null,
      "outputs": []
    },
    {
      "cell_type": "code",
      "source": [
        "df_rfm.groupby('rfm_score').agg({'avg_arpu_3m':'mean'})"
      ],
      "metadata": {
        "id": "Ei_qEZbYTItl"
      },
      "execution_count": null,
      "outputs": []
    },
    {
      "cell_type": "code",
      "source": [
        "df_rfm.groupby('rfm_score').agg({'lifetime_value':'mean'})"
      ],
      "metadata": {
        "id": "TdUGGxoGTJEz"
      },
      "execution_count": null,
      "outputs": []
    },
    {
      "cell_type": "code",
      "source": [
        "df_rfm.loc[[11,112,113,121,122,123]]"
      ],
      "metadata": {
        "id": "dpX64TCBWC2p"
      },
      "execution_count": null,
      "outputs": []
    },
    {
      "cell_type": "code",
      "source": [
        "df_rfm.groupby('rfm_score').agg({'mb_data_usg_m01':['mean','max'],'avg_arpu_3m':'mean','lifetime_value':'mean'})"
      ],
      "metadata": {
        "id": "P89jCfscWsum"
      },
      "execution_count": null,
      "outputs": []
    },
    {
      "cell_type": "markdown",
      "source": [
        "# Merge Table"
      ],
      "metadata": {
        "id": "-qOT8hARyglf"
      }
    },
    {
      "cell_type": "code",
      "source": [
        "df_join=df_account[['Customer_ID', 'customer_gender', 'region']].merge(df_usage[['Customer_ID', 'mb_data_usg_m01', 'avg_arpu_3m', 'lifetime_value']],on='Customer_ID')"
      ],
      "metadata": {
        "id": "UgQCGlJY0O6N"
      },
      "execution_count": null,
      "outputs": []
    },
    {
      "cell_type": "code",
      "source": [
        "df_join"
      ],
      "metadata": {
        "id": "-aPEyZUZ1Gvb"
      },
      "execution_count": null,
      "outputs": []
    },
    {
      "cell_type": "code",
      "source": [
        "df_join.loc[df_join['Customer_ID'].isin([84690,3998832,3999066])]"
      ],
      "metadata": {
        "id": "bFn4GD7yX8-o"
      },
      "execution_count": null,
      "outputs": []
    }
  ]
}